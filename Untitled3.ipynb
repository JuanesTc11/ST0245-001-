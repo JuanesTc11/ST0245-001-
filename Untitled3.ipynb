{
  "nbformat": 4,
  "nbformat_minor": 0,
  "metadata": {
    "colab": {
      "name": "Untitled3.ipynb",
      "provenance": [],
      "collapsed_sections": [],
      "authorship_tag": "ABX9TyP8G8V651gIb2h2u5TMYI8f",
      "include_colab_link": true
    },
    "kernelspec": {
      "name": "python3",
      "display_name": "Python 3"
    },
    "language_info": {
      "name": "python"
    }
  },
  "cells": [
    {
      "cell_type": "markdown",
      "metadata": {
        "id": "view-in-github",
        "colab_type": "text"
      },
      "source": [
        "<a href=\"https://colab.research.google.com/github/JuanesTc11/ST0245-001-/blob/master/Untitled3.ipynb\" target=\"_parent\"><img src=\"https://colab.research.google.com/assets/colab-badge.svg\" alt=\"Open In Colab\"/></a>"
      ]
    },
    {
      "cell_type": "code",
      "execution_count": 1,
      "metadata": {
        "colab": {
          "base_uri": "https://localhost:8080/"
        },
        "id": "FqZOIVZ9h7Q9",
        "outputId": "0dbfbdbf-4b69-47ae-f608-ae9085a79e6a"
      },
      "outputs": [
        {
          "output_type": "stream",
          "name": "stdout",
          "text": [
            "[['Calle 10' '(-75.5728593, 6.2115169)' '(-75.5724985, 6.2113756)' ...\n",
            "  True 0.5265393126661695\n",
            "  'LINESTRING (-75.5728593 6.2115169, -75.57249849999999 6.2113756)']\n",
            " ['Calle 10' '(-75.5705202, 6.2106275)' '(-75.570427, 6.2105879)' ...\n",
            "  True 0.4143561833185974\n",
            "  'LINESTRING (-75.5705202 6.2106275, -75.570427 6.2105879)']\n",
            " ['Carrera 43A' '(-75.5705202, 6.2106275)' '(-75.5705604, 6.2105262)' ...\n",
            "  True 0.5265393126661695\n",
            "  'LINESTRING (-75.5705202 6.2106275, -75.57056040000001 6.2105262)']\n",
            " ...\n",
            " ['Calle 104AA' '(-75.5758208, 6.3038562)' '(-75.5759864, 6.303883)' ...\n",
            "  False 0.9906261184366\n",
            "  'LINESTRING (-75.5758208 6.3038562, -75.5758905 6.3038538, -75.57593079999999 6.3038598, -75.57598640000001 6.303883)']\n",
            " ['Carrera 77A' '(-75.5774328, 6.3018686)' '(-75.5772978, 6.3020089)' ...\n",
            "  False 0.9812522368732\n",
            "  'LINESTRING (-75.5774328 6.3018686, -75.5772978 6.3020089)']\n",
            " ['Carrera 77A' '(-75.5' nan ... nan nan nan]]\n"
          ]
        }
      ],
      "source": [
        "import pandas as pd\n",
        "data = pd.read_csv('calles_de_medellin_con_acoso.csv', sep=';').values\n",
        "print(data)"
      ]
    }
  ]
}